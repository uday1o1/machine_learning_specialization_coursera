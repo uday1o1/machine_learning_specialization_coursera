{
  "cells": [
    {
      "cell_type": "code",
      "execution_count": 44,
      "metadata": {
        "id": "rALI06-oHusw"
      },
      "outputs": [],
      "source": [
        "import numpy as np\n",
        "import pandas as pd\n",
        "from sklearn.model_selection import train_test_split\n",
        "from sklearn.feature_extraction.text import TfidfVectorizer\n",
        "from sklearn.linear_model import LogisticRegression\n",
        "from sklearn import metrics\n",
        "from sklearn.metrics import accuracy_score\n",
        "import matplotlib.pyplot as plt\n",
        "import seaborn as sns\n",
        "%matplotlib inline"
      ]
    },
    {
      "cell_type": "code",
      "execution_count": 3,
      "metadata": {
        "id": "CpStHH8KNcYB"
      },
      "outputs": [],
      "source": [
        "raw_mail_df = pd.read_csv(r'C:\\Users\\Uday\\OneDrive\\Documents\\Programs\\DataScience\\datasets\\mail_data.csv')"
      ]
    },
    {
      "cell_type": "code",
      "execution_count": 45,
      "metadata": {},
      "outputs": [
        {
          "data": {
            "text/html": [
              "<div>\n",
              "<style scoped>\n",
              "    .dataframe tbody tr th:only-of-type {\n",
              "        vertical-align: middle;\n",
              "    }\n",
              "\n",
              "    .dataframe tbody tr th {\n",
              "        vertical-align: top;\n",
              "    }\n",
              "\n",
              "    .dataframe thead th {\n",
              "        text-align: right;\n",
              "    }\n",
              "</style>\n",
              "<table border=\"1\" class=\"dataframe\">\n",
              "  <thead>\n",
              "    <tr style=\"text-align: right;\">\n",
              "      <th></th>\n",
              "      <th>Category</th>\n",
              "      <th>Message</th>\n",
              "    </tr>\n",
              "  </thead>\n",
              "  <tbody>\n",
              "    <tr>\n",
              "      <th>count</th>\n",
              "      <td>5572</td>\n",
              "      <td>5572</td>\n",
              "    </tr>\n",
              "    <tr>\n",
              "      <th>unique</th>\n",
              "      <td>2</td>\n",
              "      <td>5157</td>\n",
              "    </tr>\n",
              "    <tr>\n",
              "      <th>top</th>\n",
              "      <td>ham</td>\n",
              "      <td>Sorry, I'll call later</td>\n",
              "    </tr>\n",
              "    <tr>\n",
              "      <th>freq</th>\n",
              "      <td>4825</td>\n",
              "      <td>30</td>\n",
              "    </tr>\n",
              "  </tbody>\n",
              "</table>\n",
              "</div>"
            ],
            "text/plain": [
              "       Category                 Message\n",
              "count      5572                    5572\n",
              "unique        2                    5157\n",
              "top         ham  Sorry, I'll call later\n",
              "freq       4825                      30"
            ]
          },
          "execution_count": 45,
          "metadata": {},
          "output_type": "execute_result"
        }
      ],
      "source": [
        "raw_mail_df.describe()"
      ]
    },
    {
      "cell_type": "code",
      "execution_count": 4,
      "metadata": {
        "colab": {
          "base_uri": "https://localhost:8080/"
        },
        "id": "pdn-7VE2NxsZ",
        "outputId": "28c19d96-23a2-43c0-86ad-5c1aee7f1b58"
      },
      "outputs": [
        {
          "data": {
            "text/html": [
              "<div>\n",
              "<style scoped>\n",
              "    .dataframe tbody tr th:only-of-type {\n",
              "        vertical-align: middle;\n",
              "    }\n",
              "\n",
              "    .dataframe tbody tr th {\n",
              "        vertical-align: top;\n",
              "    }\n",
              "\n",
              "    .dataframe thead th {\n",
              "        text-align: right;\n",
              "    }\n",
              "</style>\n",
              "<table border=\"1\" class=\"dataframe\">\n",
              "  <thead>\n",
              "    <tr style=\"text-align: right;\">\n",
              "      <th></th>\n",
              "      <th>Category</th>\n",
              "      <th>Message</th>\n",
              "    </tr>\n",
              "  </thead>\n",
              "  <tbody>\n",
              "    <tr>\n",
              "      <th>0</th>\n",
              "      <td>ham</td>\n",
              "      <td>Go until jurong point, crazy.. Available only ...</td>\n",
              "    </tr>\n",
              "    <tr>\n",
              "      <th>1</th>\n",
              "      <td>ham</td>\n",
              "      <td>Ok lar... Joking wif u oni...</td>\n",
              "    </tr>\n",
              "    <tr>\n",
              "      <th>2</th>\n",
              "      <td>spam</td>\n",
              "      <td>Free entry in 2 a wkly comp to win FA Cup fina...</td>\n",
              "    </tr>\n",
              "    <tr>\n",
              "      <th>3</th>\n",
              "      <td>ham</td>\n",
              "      <td>U dun say so early hor... U c already then say...</td>\n",
              "    </tr>\n",
              "    <tr>\n",
              "      <th>4</th>\n",
              "      <td>ham</td>\n",
              "      <td>Nah I don't think he goes to usf, he lives aro...</td>\n",
              "    </tr>\n",
              "  </tbody>\n",
              "</table>\n",
              "</div>"
            ],
            "text/plain": [
              "  Category                                            Message\n",
              "0      ham  Go until jurong point, crazy.. Available only ...\n",
              "1      ham                      Ok lar... Joking wif u oni...\n",
              "2     spam  Free entry in 2 a wkly comp to win FA Cup fina...\n",
              "3      ham  U dun say so early hor... U c already then say...\n",
              "4      ham  Nah I don't think he goes to usf, he lives aro..."
            ]
          },
          "execution_count": 4,
          "metadata": {},
          "output_type": "execute_result"
        }
      ],
      "source": [
        "raw_mail_df.head()"
      ]
    },
    {
      "cell_type": "code",
      "execution_count": 46,
      "metadata": {},
      "outputs": [
        {
          "data": {
            "text/plain": [
              "<Axes: >"
            ]
          },
          "execution_count": 46,
          "metadata": {},
          "output_type": "execute_result"
        },
        {
          "data": {
            "image/png": "[encoded data removed]",
            "text/plain": [
              "<Figure size 640x480 with 2 Axes>"
            ]
          },
          "metadata": {},
          "output_type": "display_data"
        }
      ],
      "source": [
        "sns.heatmap(raw_mail_df.isnull())"
      ]
    },
    {
      "cell_type": "code",
      "execution_count": 7,
      "metadata": {
        "id": "yhakjIE1N011"
      },
      "outputs": [],
      "source": [
        "mail_df = raw_mail_df.where((pd.notnull(raw_mail_df)),'')"
      ]
    },
    {
      "cell_type": "code",
      "execution_count": 8,
      "metadata": {
        "colab": {
          "base_uri": "https://localhost:8080/"
        },
        "id": "IbK82N2gOdar",
        "outputId": "4d1840a1-22b5-468f-d4d0-a4528ef4313c"
      },
      "outputs": [
        {
          "data": {
            "text/plain": [
              "(5572, 2)"
            ]
          },
          "execution_count": 8,
          "metadata": {},
          "output_type": "execute_result"
        }
      ],
      "source": [
        "mail_df.shape"
      ]
    },
    {
      "cell_type": "code",
      "execution_count": 9,
      "metadata": {
        "id": "9EW7QSgeOt4p"
      },
      "outputs": [],
      "source": [
        "mail_df.loc[mail_df['Category'] == 'spam', 'Category',] = 0\n",
        "mail_df.loc[mail_df['Category'] == 'ham', 'Category',] = 1"
      ]
    },
    {
      "cell_type": "code",
      "execution_count": 12,
      "metadata": {
        "id": "t8Rt-FaNPtPE"
      },
      "outputs": [],
      "source": [
        "X = mail_df['Message']\n",
        "Y = mail_df['Category']"
      ]
    },
    {
      "cell_type": "code",
      "execution_count": 13,
      "metadata": {
        "colab": {
          "base_uri": "https://localhost:8080/"
        },
        "id": "QnQeUBGtQPP7",
        "outputId": "a2640f4b-2a1d-4742-9742-3ecbb6017668"
      },
      "outputs": [
        {
          "data": {
            "text/plain": [
              "0    Go until jurong point, crazy.. Available only ...\n",
              "1                        Ok lar... Joking wif u oni...\n",
              "2    Free entry in 2 a wkly comp to win FA Cup fina...\n",
              "3    U dun say so early hor... U c already then say...\n",
              "4    Nah I don't think he goes to usf, he lives aro...\n",
              "Name: Message, dtype: object"
            ]
          },
          "execution_count": 13,
          "metadata": {},
          "output_type": "execute_result"
        }
      ],
      "source": [
        "X.head()"
      ]
    },
    {
      "cell_type": "code",
      "execution_count": 14,
      "metadata": {
        "colab": {
          "base_uri": "https://localhost:8080/"
        },
        "id": "cuWDNy5KQQjY",
        "outputId": "1a0a109b-d63a-4cf0-fe4e-b486f1d3d623"
      },
      "outputs": [
        {
          "data": {
            "text/plain": [
              "0    1\n",
              "1    1\n",
              "2    0\n",
              "3    1\n",
              "4    1\n",
              "Name: Category, dtype: object"
            ]
          },
          "execution_count": 14,
          "metadata": {},
          "output_type": "execute_result"
        }
      ],
      "source": [
        "Y.head()"
      ]
    },
    {
      "cell_type": "code",
      "execution_count": 15,
      "metadata": {
        "id": "RO2GmbSNQSQH"
      },
      "outputs": [],
      "source": [
        "X_train, X_test, Y_train, Y_test = train_test_split(X, Y, test_size=0.25, random_state=42)"
      ]
    },
    {
      "cell_type": "code",
      "execution_count": 17,
      "metadata": {
        "id": "nLs847nSRibm"
      },
      "outputs": [],
      "source": [
        "feature_extraction = TfidfVectorizer(min_df=1,stop_words='english',lowercase=True)\n",
        "\n",
        "X_train_features = feature_extraction.fit_transform(X_train)\n",
        "X_test_features = feature_extraction.transform(X_test)\n",
        "\n",
        "Y_train = Y_train.astype('int')\n",
        "Y_test = Y_test.astype('int')"
      ]
    },
    {
      "cell_type": "code",
      "execution_count": 18,
      "metadata": {
        "id": "dBMAcw9RUkUY"
      },
      "outputs": [
        {
          "data": {
            "text/plain": [
              "4281    WINNER!! As a valued network customer you have...\n",
              "585     So how's scotland. Hope you are not over showi...\n",
              "4545                  when you and derek done with class?\n",
              "3034                          Aight, lemme know what's up\n",
              "2758                Yo we are watching a movie on netflix\n",
              "Name: Message, dtype: object"
            ]
          },
          "execution_count": 18,
          "metadata": {},
          "output_type": "execute_result"
        }
      ],
      "source": [
        "X_train.head()"
      ]
    },
    {
      "cell_type": "code",
      "execution_count": 25,
      "metadata": {},
      "outputs": [
        {
          "name": "stdout",
          "output_type": "stream",
          "text": [
            "  (0, 3269)\t0.22054637918276537\n",
            "  (0, 268)\t0.24268694798090706\n",
            "  (0, 6770)\t0.22054637918276537\n",
            "  (0, 3683)\t0.29820405490236296\n",
            "  (0, 1759)\t0.2170940285037797\n",
            "  (0, 193)\t0.29820405490236296\n",
            "  (0, 1703)\t0.3463668729960997\n",
            "  (0, 5412)\t0.26659686450403225\n",
            "  (0, 5072)\t0.18515987150578092\n",
            "  (0, 697)\t0.2603077338178364\n",
            "  (0, 5272)\t0.29820405490236296\n",
            "  (0, 5624)\t0.21107975758257638\n",
            "  (0, 1994)\t0.19237243410818475\n",
            "  (0, 4440)\t0.21107975758257638\n",
            "  (0, 6774)\t0.2393992502064106\n",
            "  (0, 7026)\t0.23108043306518108\n"
          ]
        }
      ],
      "source": [
        "print(X_train_features[0])"
      ]
    },
    {
      "cell_type": "code",
      "execution_count": 27,
      "metadata": {
        "id": "1JeAOwzpUv0V"
      },
      "outputs": [
        {
          "name": "stdout",
          "output_type": "stream",
          "text": [
            "[2.37363775]\n"
          ]
        },
        {
          "data": {
            "text/plain": [
              "array([[-0.63626509, -1.25217943,  0.01791114, ..., -0.19653153,\n",
              "         0.01240495,  0.01192663]])"
            ]
          },
          "execution_count": 27,
          "metadata": {},
          "output_type": "execute_result"
        }
      ],
      "source": [
        "logistic_model = LogisticRegression()\n",
        "logistic_model.fit(X_train_features, Y_train)\n",
        "\n",
        "print(logistic_model.intercept_)\n",
        "logistic_model.coef_"
      ]
    },
    {
      "cell_type": "code",
      "execution_count": 31,
      "metadata": {
        "id": "ExiF2kKxVYtC"
      },
      "outputs": [
        {
          "name": "stdout",
          "output_type": "stream",
          "text": [
            "Accuracy(train):  0.9653027039961714\n"
          ]
        }
      ],
      "source": [
        "logistic_model_train_predict = logistic_model.predict(X_train_features)\n",
        "accuracy_on_training_data = accuracy_score(Y_train, logistic_model_train_predict)\n",
        "print('Accuracy(train): ', accuracy_on_training_data)"
      ]
    },
    {
      "cell_type": "code",
      "execution_count": 32,
      "metadata": {
        "id": "cTin5rXTWKg3"
      },
      "outputs": [
        {
          "name": "stdout",
          "output_type": "stream",
          "text": [
            "Accuracy(test)  0.9662598707824839\n"
          ]
        }
      ],
      "source": [
        "logistic_model_test_predict = logistic_model.predict(X_test_features)\n",
        "accuracy_on_test_data = accuracy_score(Y_test, logistic_model_test_predict)\n",
        "print('Accuracy(test) ', accuracy_on_test_data)"
      ]
    },
    {
      "cell_type": "code",
      "execution_count": 33,
      "metadata": {},
      "outputs": [
        {
          "name": "stdout",
          "output_type": "stream",
          "text": [
            "Mean Absolute Error :  0.03374012921751615\n",
            "Mean Squared Error :  0.03374012921751615\n",
            "Root Mean Squared Error :  0.18368486387701125\n"
          ]
        }
      ],
      "source": [
        "print('Mean Absolute Error : ', metrics.mean_absolute_error(Y_test, logistic_model_test_predict))\n",
        "print('Mean Squared Error : ', metrics.mean_squared_error(Y_test, logistic_model_test_predict))\n",
        "print('Root Mean Squared Error : ', np.sqrt(metrics.mean_squared_error(Y_test, logistic_model_test_predict)))"
      ]
    },
    {
      "cell_type": "code",
      "execution_count": 43,
      "metadata": {
        "colab": {
          "base_uri": "https://localhost:8080/"
        },
        "id": "h60z1__mWql6",
        "outputId": "3aac53f3-13f2-4afb-e9f2-75d337cbcd44"
      },
      "outputs": [
        {
          "name": "stdout",
          "output_type": "stream",
          "text": [
            "Spam\n"
          ]
        }
      ],
      "source": [
        "# input_mail = [\"I've been searching for the right words to thank you for this breather. I promise i wont take your help for granted and will fulfil my promise. You have been wonderful and a blessing at all times\"]\n",
        "input_mail = [\"WINNER!! As a valued network customer you have been selected to receivea Â£900 prize reward! To claim call 09061701461. Claim code KL341. Valid 12 hours only.\"]\n",
        "input_data_features = feature_extraction.transform(input_mail)\n",
        "\n",
        "prediction = logistic_model.predict(input_data_features)\n",
        "\n",
        "if (prediction[0]==1):\n",
        "  print('Not Spam')\n",
        "else:\n",
        "  print('Spam')"
      ]
    },
    {
      "cell_type": "code",
      "execution_count": 47,
      "metadata": {},
      "outputs": [
        {
          "name": "stdout",
          "output_type": "stream",
          "text": [
            "Requirement already satisfied: yellowbrick in c:\\users\\uday\\appdata\\local\\programs\\python\\python311\\lib\\site-packages (1.5)\n",
            "Requirement already satisfied: matplotlib!=3.0.0,>=2.0.2 in c:\\users\\uday\\appdata\\local\\programs\\python\\python311\\lib\\site-packages (from yellowbrick) (3.7.2)\n",
            "Requirement already satisfied: scipy>=1.0.0 in c:\\users\\uday\\appdata\\local\\programs\\python\\python311\\lib\\site-packages (from yellowbrick) (1.11.2)\n",
            "Requirement already satisfied: scikit-learn>=1.0.0 in c:\\users\\uday\\appdata\\local\\programs\\python\\python311\\lib\\site-packages (from yellowbrick) (1.3.0)\n",
            "Requirement already satisfied: numpy>=1.16.0 in c:\\users\\uday\\appdata\\local\\programs\\python\\python311\\lib\\site-packages (from yellowbrick) (1.25.2)\n",
            "Requirement already satisfied: cycler>=0.10.0 in c:\\users\\uday\\appdata\\local\\programs\\python\\python311\\lib\\site-packages (from yellowbrick) (0.11.0)\n",
            "Requirement already satisfied: contourpy>=1.0.1 in c:\\users\\uday\\appdata\\local\\programs\\python\\python311\\lib\\site-packages (from matplotlib!=3.0.0,>=2.0.2->yellowbrick) (1.1.0)\n",
            "Requirement already satisfied: fonttools>=4.22.0 in c:\\users\\uday\\appdata\\local\\programs\\python\\python311\\lib\\site-packages (from matplotlib!=3.0.0,>=2.0.2->yellowbrick) (4.42.1)\n",
            "Requirement already satisfied: kiwisolver>=1.0.1 in c:\\users\\uday\\appdata\\local\\programs\\python\\python311\\lib\\site-packages (from matplotlib!=3.0.0,>=2.0.2->yellowbrick) (1.4.5)\n",
            "Requirement already satisfied: packaging>=20.0 in c:\\users\\uday\\appdata\\roaming\\python\\python311\\site-packages (from matplotlib!=3.0.0,>=2.0.2->yellowbrick) (23.1)\n",
            "Requirement already satisfied: pillow>=6.2.0 in c:\\users\\uday\\appdata\\local\\programs\\python\\python311\\lib\\site-packages (from matplotlib!=3.0.0,>=2.0.2->yellowbrick) (10.0.0)\n",
            "Requirement already satisfied: pyparsing<3.1,>=2.3.1 in c:\\users\\uday\\appdata\\local\\programs\\python\\python311\\lib\\site-packages (from matplotlib!=3.0.0,>=2.0.2->yellowbrick) (3.0.9)\n",
            "Requirement already satisfied: python-dateutil>=2.7 in c:\\users\\uday\\appdata\\roaming\\python\\python311\\site-packages (from matplotlib!=3.0.0,>=2.0.2->yellowbrick) (2.8.2)\n",
            "Requirement already satisfied: joblib>=1.1.1 in c:\\users\\uday\\appdata\\local\\programs\\python\\python311\\lib\\site-packages (from scikit-learn>=1.0.0->yellowbrick) (1.3.2)\n",
            "Requirement already satisfied: threadpoolctl>=2.0.0 in c:\\users\\uday\\appdata\\local\\programs\\python\\python311\\lib\\site-packages (from scikit-learn>=1.0.0->yellowbrick) (3.2.0)\n",
            "Requirement already satisfied: six>=1.5 in c:\\users\\uday\\appdata\\roaming\\python\\python311\\site-packages (from python-dateutil>=2.7->matplotlib!=3.0.0,>=2.0.2->yellowbrick) (1.16.0)\n"
          ]
        },
        {
          "name": "stderr",
          "output_type": "stream",
          "text": [
            "\n",
            "[notice] A new release of pip is available: 23.2.1 -> 24.0\n",
            "[notice] To update, run: python.exe -m pip install --upgrade pip\n"
          ]
        }
      ],
      "source": [
        "!pip install yellowbrick"
      ]
    },
    {
      "cell_type": "code",
      "execution_count": 48,
      "metadata": {},
      "outputs": [
        {
          "data": {
            "image/png": "[encoded data removed]",
            "text/plain": [
              "<Figure size 800x550 with 1 Axes>"
            ]
          },
          "metadata": {},
          "output_type": "display_data"
        },
        {
          "data": {
            "text/plain": [
              "<Axes: title={'center': 'Precision-Recall Curve for LogisticRegression'}, xlabel='Recall', ylabel='Precision'>"
            ]
          },
          "execution_count": 48,
          "metadata": {},
          "output_type": "execute_result"
        }
      ],
      "source": [
        "from yellowbrick.classifier import PrecisionRecallCurve\n",
        "\n",
        "viz = PrecisionRecallCurve(logistic_model)\n",
        "\n",
        "viz.fit(X_train_features, Y_train)\n",
        "viz.score(X_test_features, Y_test)\n",
        "viz.show()"
      ]
    }
  ],
  "metadata": {
    "colab": {
      "provenance": []
    },
    "kernelspec": {
      "display_name": "Python 3",
      "name": "python3"
    },
    "language_info": {
      "codemirror_mode": {
        "name": "ipython",
        "version": 3
      },
      "file_extension": ".py",
      "mimetype": "text/x-python",
      "name": "python",
      "nbconvert_exporter": "python",
      "pygments_lexer": "ipython3",
      "version": "3.11.5"
    }
  },
  "nbformat": 4,
  "nbformat_minor": 0
}
